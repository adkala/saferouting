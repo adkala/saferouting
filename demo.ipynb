{
 "cells": [
  {
   "cell_type": "markdown",
   "id": "a9afdb9f-c7eb-4300-893f-2b1a36b23eea",
   "metadata": {},
   "source": [
    "# Safe Street Routing Demo"
   ]
  },
  {
   "cell_type": "code",
   "execution_count": 1,
   "id": "afc74e85-ac0c-4cfc-beae-7b626941541c",
   "metadata": {},
   "outputs": [],
   "source": [
    "%load_ext autoreload\n",
    "%autoreload 2"
   ]
  },
  {
   "cell_type": "code",
   "execution_count": 2,
   "id": "3b69f21a-4868-4ad7-8ff4-ff57f82e192f",
   "metadata": {},
   "outputs": [],
   "source": [
    "from routing import *"
   ]
  },
  {
   "cell_type": "code",
   "execution_count": 3,
   "id": "ea8b3056-9375-4bd9-b3eb-9a08ada40389",
   "metadata": {},
   "outputs": [],
   "source": [
    "r = Routes()"
   ]
  },
  {
   "cell_type": "code",
   "execution_count": 4,
   "id": "37ceaa90-1568-4cc1-8373-bdae09317358",
   "metadata": {},
   "outputs": [
    {
     "name": "stdout",
     "output_type": "stream",
     "text": [
      "65338809 65315481\n"
     ]
    }
   ],
   "source": [
    "source = (-122.506407, 37.778470)\n",
    "destination = (-122.39878344006792, 37.77659588736467)\n",
    "\n",
    "source_id = r.graph.closest_node(*source)\n",
    "destination_id = r.graph.closest_node(*destination)\n",
    "\n",
    "print(source_id, destination_id)"
   ]
  },
  {
   "cell_type": "code",
   "execution_count": 5,
   "id": "9bfeae33-ffb7-4602-a282-7ed3189f53a4",
   "metadata": {},
   "outputs": [
    {
     "name": "stdout",
     "output_type": "stream",
     "text": [
      "Current node: 65338809, nodes traversed: 0\n",
      "Current node: 258909676, nodes traversed: 10\n",
      "Current node: 258911657, nodes traversed: 20\n",
      "Current node: 4022970330, nodes traversed: 30\n",
      "Current node: 258911627, nodes traversed: 40\n",
      "Current node: 65309738, nodes traversed: 50\n",
      "Current node: 1720871524, nodes traversed: 60\n",
      "Current node: 258909669, nodes traversed: 70\n",
      "Current node: 258683423, nodes traversed: 80\n",
      "Current node: 5433789669, nodes traversed: 90\n",
      "Current node: 6744832119, nodes traversed: 100\n",
      "Current node: 6744812962, nodes traversed: 200\n",
      "Current node: 2567080388, nodes traversed: 300\n",
      "Current node: 8419914426, nodes traversed: 400\n",
      "Current node: 10791235505, nodes traversed: 500\n",
      "Current node: 6654106666, nodes traversed: 600\n",
      "Current node: 8419911153, nodes traversed: 700\n",
      "Current node: 302481936, nodes traversed: 800\n",
      "Current node: 315369374, nodes traversed: 900\n",
      "Current node: 2992172331, nodes traversed: 1000\n",
      "Current node: 4681311552, nodes traversed: 2000\n",
      "Current node: 1707682786, nodes traversed: 3000\n",
      "Current node: 9708416031, nodes traversed: 4000\n",
      "Current node: 343531228, nodes traversed: 5000\n",
      "Current node: 10746398338, nodes traversed: 6000\n",
      "Current node: 263991315, nodes traversed: 7000\n",
      "Current node: 65352758, nodes traversed: 8000\n",
      "Current node: 9720950827, nodes traversed: 9000\n",
      "Current node: 9720947573, nodes traversed: 10000\n",
      "Current node: 1777579938, nodes traversed: 20000\n",
      "Current node: 6346559772, nodes traversed: 30000\n",
      "Query took 0.713 ms, returns a path traversing 188 nodes\n"
     ]
    }
   ],
   "source": [
    "route = r.get_path(source, destination)"
   ]
  }
 ],
 "metadata": {
  "kernelspec": {
   "display_name": "safestreet",
   "language": "python",
   "name": "safestreet"
  },
  "language_info": {
   "codemirror_mode": {
    "name": "ipython",
    "version": 3
   },
   "file_extension": ".py",
   "mimetype": "text/x-python",
   "name": "python",
   "nbconvert_exporter": "python",
   "pygments_lexer": "ipython3",
   "version": "3.11.3"
  }
 },
 "nbformat": 4,
 "nbformat_minor": 5
}
